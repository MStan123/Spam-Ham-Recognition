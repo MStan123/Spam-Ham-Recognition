{
 "cells": [
  {
   "cell_type": "code",
   "execution_count": 1,
   "id": "3e2752fc",
   "metadata": {},
   "outputs": [],
   "source": [
    "import numpy as np\n",
    "import pandas as pd"
   ]
  },
  {
   "cell_type": "code",
   "execution_count": 2,
   "id": "f8b8f304",
   "metadata": {},
   "outputs": [],
   "source": [
    "data = pd.read_csv(\"spam_Emails_data.csv\", sep = ',')"
   ]
  },
  {
   "cell_type": "code",
   "execution_count": 3,
   "id": "bcc34305",
   "metadata": {},
   "outputs": [
    {
     "data": {
      "text/html": [
       "<div>\n",
       "<style scoped>\n",
       "    .dataframe tbody tr th:only-of-type {\n",
       "        vertical-align: middle;\n",
       "    }\n",
       "\n",
       "    .dataframe tbody tr th {\n",
       "        vertical-align: top;\n",
       "    }\n",
       "\n",
       "    .dataframe thead th {\n",
       "        text-align: right;\n",
       "    }\n",
       "</style>\n",
       "<table border=\"1\" class=\"dataframe\">\n",
       "  <thead>\n",
       "    <tr style=\"text-align: right;\">\n",
       "      <th></th>\n",
       "      <th>label</th>\n",
       "      <th>text</th>\n",
       "    </tr>\n",
       "  </thead>\n",
       "  <tbody>\n",
       "    <tr>\n",
       "      <th>0</th>\n",
       "      <td>Spam</td>\n",
       "      <td>viiiiiiagraaaa\\nonly for the ones that want to...</td>\n",
       "    </tr>\n",
       "    <tr>\n",
       "      <th>1</th>\n",
       "      <td>Ham</td>\n",
       "      <td>got ice thought look az original message ice o...</td>\n",
       "    </tr>\n",
       "    <tr>\n",
       "      <th>2</th>\n",
       "      <td>Spam</td>\n",
       "      <td>yo ur wom an ne eds an escapenumber in ch ma n...</td>\n",
       "    </tr>\n",
       "    <tr>\n",
       "      <th>3</th>\n",
       "      <td>Spam</td>\n",
       "      <td>start increasing your odds of success &amp; live s...</td>\n",
       "    </tr>\n",
       "    <tr>\n",
       "      <th>4</th>\n",
       "      <td>Ham</td>\n",
       "      <td>author jra date escapenumber escapenumber esca...</td>\n",
       "    </tr>\n",
       "  </tbody>\n",
       "</table>\n",
       "</div>"
      ],
      "text/plain": [
       "  label                                               text\n",
       "0  Spam  viiiiiiagraaaa\\nonly for the ones that want to...\n",
       "1   Ham  got ice thought look az original message ice o...\n",
       "2  Spam  yo ur wom an ne eds an escapenumber in ch ma n...\n",
       "3  Spam  start increasing your odds of success & live s...\n",
       "4   Ham  author jra date escapenumber escapenumber esca..."
      ]
     },
     "execution_count": 3,
     "metadata": {},
     "output_type": "execute_result"
    }
   ],
   "source": [
    "data.head()"
   ]
  },
  {
   "cell_type": "code",
   "execution_count": 4,
   "id": "739bf208",
   "metadata": {},
   "outputs": [
    {
     "name": "stdout",
     "output_type": "stream",
     "text": [
      "<class 'pandas.core.frame.DataFrame'>\n",
      "RangeIndex: 193852 entries, 0 to 193851\n",
      "Data columns (total 2 columns):\n",
      " #   Column  Non-Null Count   Dtype \n",
      "---  ------  --------------   ----- \n",
      " 0   label   193852 non-null  object\n",
      " 1   text    193850 non-null  object\n",
      "dtypes: object(2)\n",
      "memory usage: 3.0+ MB\n"
     ]
    }
   ],
   "source": [
    "data.info()"
   ]
  },
  {
   "cell_type": "code",
   "execution_count": 5,
   "id": "6e4acdc7",
   "metadata": {},
   "outputs": [
    {
     "data": {
      "text/plain": [
       "label    0\n",
       "text     2\n",
       "dtype: int64"
      ]
     },
     "execution_count": 5,
     "metadata": {},
     "output_type": "execute_result"
    }
   ],
   "source": [
    "data.isnull().sum()"
   ]
  },
  {
   "cell_type": "code",
   "execution_count": 6,
   "id": "d1b3acb6",
   "metadata": {},
   "outputs": [],
   "source": [
    "data = data.dropna(subset = ['label', 'text']).reset_index(drop = True)"
   ]
  },
  {
   "cell_type": "code",
   "execution_count": 7,
   "id": "2c46ed08",
   "metadata": {},
   "outputs": [
    {
     "data": {
      "text/plain": [
       "label    0\n",
       "text     0\n",
       "dtype: int64"
      ]
     },
     "execution_count": 7,
     "metadata": {},
     "output_type": "execute_result"
    }
   ],
   "source": [
    "data.isnull().sum()"
   ]
  },
  {
   "cell_type": "code",
   "execution_count": 8,
   "id": "8f8afa8f",
   "metadata": {},
   "outputs": [],
   "source": [
    "from sklearn.preprocessing import LabelEncoder\n",
    "from sklearn.model_selection import train_test_split"
   ]
  },
  {
   "cell_type": "code",
   "execution_count": 9,
   "id": "f08da5ca",
   "metadata": {},
   "outputs": [],
   "source": [
    "data['text'] = data['text'].str.lower()\n",
    "\n",
    "data['label'] = LabelEncoder().fit_transform(data['label'])"
   ]
  },
  {
   "cell_type": "code",
   "execution_count": 10,
   "id": "d8f8c288",
   "metadata": {},
   "outputs": [],
   "source": [
    "X = data['text']\n",
    "Y = data['label']\n",
    "\n",
    "X_train, X_test, Y_train, Y_test = train_test_split(X, Y, test_size = 0.2, random_state = 0)"
   ]
  },
  {
   "cell_type": "code",
   "execution_count": 38,
   "id": "146cf7f9",
   "metadata": {},
   "outputs": [],
   "source": [
    "from sklearn.feature_extraction.text import CountVectorizer\n",
    "from sklearn.naive_bayes import MultinomialNB, BernoulliNB, ComplementNB\n",
    "\n",
    "vectorizer = CountVectorizer()\n",
    "\n",
    "X_train_vectorized = vectorizer.fit_transform(X_train)\n",
    "X_test_vectorized = vectorizer.transform(X_test)"
   ]
  },
  {
   "cell_type": "markdown",
   "id": "d26b7c47",
   "metadata": {},
   "source": [
    "# MultinomialNB"
   ]
  },
  {
   "cell_type": "code",
   "execution_count": 13,
   "id": "d07d1e2c",
   "metadata": {},
   "outputs": [],
   "source": [
    "classifier = MultinomialNB()\n",
    "classifier.fit(X_train_vectorized, Y_train)\n",
    "\n",
    "y_pred = classifier.predict(X_test_vectorized)"
   ]
  },
  {
   "cell_type": "code",
   "execution_count": 25,
   "id": "ed04ddd7",
   "metadata": {},
   "outputs": [],
   "source": [
    "from sklearn.metrics import classification_report, confusion_matrix, accuracy_score, ConfusionMatrixDisplay\n",
    "\n",
    "accuracy = accuracy_score(Y_test, y_pred)\n",
    "cm = confusion_matrix(Y_test, y_pred)\n",
    "report = classification_report(Y_test, y_pred)"
   ]
  },
  {
   "cell_type": "code",
   "execution_count": 26,
   "id": "e01393aa",
   "metadata": {},
   "outputs": [
    {
     "name": "stdout",
     "output_type": "stream",
     "text": [
      "Accuracy: 0.962754707247872\n",
      "Confusion Matrix:\n",
      "[[20235   295]\n",
      " [ 1149 17091]]\n",
      "Classification Report:\n",
      "              precision    recall  f1-score   support\n",
      "\n",
      "           0       0.95      0.99      0.97     20530\n",
      "           1       0.98      0.94      0.96     18240\n",
      "\n",
      "    accuracy                           0.96     38770\n",
      "   macro avg       0.96      0.96      0.96     38770\n",
      "weighted avg       0.96      0.96      0.96     38770\n",
      "\n"
     ]
    }
   ],
   "source": [
    "print(f\"Accuracy: {accuracy}\")\n",
    "\n",
    "print(f\"Confusion Matrix:\")\n",
    "print(cm)\n",
    "\n",
    "print(f\"Classification Report:\")\n",
    "print(report)"
   ]
  },
  {
   "cell_type": "code",
   "execution_count": 27,
   "id": "fb670881",
   "metadata": {
    "scrolled": false
   },
   "outputs": [
    {
     "data": {
      "image/png": "[encoded data removed]",
      "text/plain": [
       "<Figure size 640x480 with 2 Axes>"
      ]
     },
     "metadata": {},
     "output_type": "display_data"
    }
   ],
   "source": [
    "import matplotlib.pyplot as plt\n",
    "\n",
    "disp = ConfusionMatrixDisplay(confusion_matrix=cm, display_labels=classifier.classes_)\n",
    "disp.plot()\n",
    "plt.show()"
   ]
  },
  {
   "cell_type": "markdown",
   "id": "40cc87e2",
   "metadata": {},
   "source": [
    "# BernoulliNB"
   ]
  },
  {
   "cell_type": "code",
   "execution_count": 31,
   "id": "1df0d052",
   "metadata": {},
   "outputs": [
    {
     "name": "stdout",
     "output_type": "stream",
     "text": [
      "Accuracy: 0.8890895021924168\n",
      "Confusion Matrix:\n",
      "[[17090  3440]\n",
      " [  860 17380]]\n",
      "Classification Report:\n",
      "              precision    recall  f1-score   support\n",
      "\n",
      "           0       0.95      0.83      0.89     20530\n",
      "           1       0.83      0.95      0.89     18240\n",
      "\n",
      "    accuracy                           0.89     38770\n",
      "   macro avg       0.89      0.89      0.89     38770\n",
      "weighted avg       0.90      0.89      0.89     38770\n",
      "\n"
     ]
    }
   ],
   "source": [
    "classifier_bernoulli = BernoulliNB()\n",
    "classifier_bernoulli.fit(X_train_vectorized, Y_train)\n",
    "\n",
    "y_pred_bernoulli = classifier_bernoulli.predict(X_test_vectorized)\n",
    "\n",
    "accuracy_bernoulli = accuracy_score(Y_test, y_pred_bernoulli)\n",
    "confusion_matrix_bernoulli = confusion_matrix(Y_test, y_pred_bernoulli)\n",
    "report_bernoulli = classification_report(Y_test, y_pred_bernoulli)\n",
    "\n",
    "print(f\"Accuracy: {accuracy_bernoulli}\")\n",
    "\n",
    "print(f\"Confusion Matrix:\")\n",
    "print(confusion_matrix_bernoulli)\n",
    "\n",
    "print(f\"Classification Report:\")\n",
    "print(report_bernoulli)"
   ]
  },
  {
   "cell_type": "markdown",
   "id": "07fa63c0",
   "metadata": {},
   "source": [
    "# ComplementNB"
   ]
  },
  {
   "cell_type": "code",
   "execution_count": 34,
   "id": "efee571a",
   "metadata": {
    "scrolled": false
   },
   "outputs": [
    {
     "name": "stdout",
     "output_type": "stream",
     "text": [
      "Accuracy: 0.9627805003868971\n",
      "Confusion Matrix:\n",
      "[[20226   304]\n",
      " [ 1139 17101]]\n",
      "Classification Report:\n",
      "              precision    recall  f1-score   support\n",
      "\n",
      "           0       0.95      0.99      0.97     20530\n",
      "           1       0.98      0.94      0.96     18240\n",
      "\n",
      "    accuracy                           0.96     38770\n",
      "   macro avg       0.96      0.96      0.96     38770\n",
      "weighted avg       0.96      0.96      0.96     38770\n",
      "\n"
     ]
    }
   ],
   "source": [
    "classifier_complement = ComplementNB()\n",
    "classifier_complement.fit(X_train_vectorized, Y_train)\n",
    "\n",
    "y_pred_complement = classifier_complement.predict(X_test_vectorized)\n",
    "\n",
    "accuracy_complement = accuracy_score(Y_test, y_pred_complement)\n",
    "confusion_matrix_complement = confusion_matrix(Y_test, y_pred_complement)\n",
    "report_complement = classification_report(Y_test, y_pred_complement)\n",
    "\n",
    "print(f\"Accuracy: {accuracy_complement}\")\n",
    "\n",
    "print(f\"Confusion Matrix:\")\n",
    "print(confusion_matrix_complement)\n",
    "\n",
    "print(f\"Classification Report:\")\n",
    "print(report_complement)"
   ]
  },
  {
   "cell_type": "code",
   "execution_count": null,
   "id": "2f3489e3",
   "metadata": {},
   "outputs": [],
   "source": []
  }
 ],
 "metadata": {
  "kernelspec": {
   "display_name": "Python 3 (ipykernel)",
   "language": "python",
   "name": "python3"
  },
  "language_info": {
   "codemirror_mode": {
    "name": "ipython",
    "version": 3
   },
   "file_extension": ".py",
   "mimetype": "text/x-python",
   "name": "python",
   "nbconvert_exporter": "python",
   "pygments_lexer": "ipython3",
   "version": "3.11.5"
  }
 },
 "nbformat": 4,
 "nbformat_minor": 5
}
